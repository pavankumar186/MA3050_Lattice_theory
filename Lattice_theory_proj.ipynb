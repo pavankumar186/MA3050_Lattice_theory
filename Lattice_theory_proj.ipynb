{
  "nbformat": 4,
  "nbformat_minor": 0,
  "metadata": {
    "colab": {
      "name": "Lattice theory presentation",
      "provenance": []
    },
    "kernelspec": {
      "name": "python3",
      "display_name": "Python 3"
    },
    "language_info": {
      "name": "python"
    }
  },
  "cells": [
    {
      "cell_type": "code",
      "metadata": {
        "id": "1PmklK_yQcna"
      },
      "source": [
        "import networkx as nx\n",
        "import matplotlib.pyplot as plt\n",
        "from itertools import chain, combinations\n",
        "import math\n",
        "\n",
        "def comb(n,r):\n",
        "    f = math.factorial\n",
        "    ans = f(n) // f(r) // f(n-r)\n",
        "    return ans\n",
        "\n",
        "def powerset(iterable):\n",
        "    s = list(iterable)\n",
        "    return chain.from_iterable(combinations(s, r) for r in range(len(s)+1))\n",
        "\n",
        "max_ele_length=2\n",
        "\n",
        "poset=list(powerset(list(range(1,max_ele_length+1))))\n",
        "\n",
        "L=nx.Graph()\n",
        "\n",
        "for j in range(max_ele_length+1):\n",
        "  x=2**(max_ele_length-1)\n",
        "  x=x-(comb(max_ele_length,j)//2)\n",
        "  for i in poset:\n",
        "    if (len(i)==j):\n",
        "      L.add_node(i,pos=(x,j))\n",
        "      x+=1\n",
        "\n",
        "for j in range(max_ele_length+1):\n",
        "  for k in poset:\n",
        "    if len(k)==j:\n",
        "      for i in poset:\n",
        "        if set(k).issubset(set(i)) and len(i)==len(k)+1:\n",
        "          L.add_edge(k,i)\n",
        "\n",
        "\n",
        "\n",
        "pos=nx.get_node_attributes(L,'pos')\n"
      ],
      "execution_count": null,
      "outputs": []
    },
    {
      "cell_type": "code",
      "metadata": {
        "colab": {
          "base_uri": "https://localhost:8080/",
          "height": 247
        },
        "id": "9Too2zeTR2nJ",
        "outputId": "1b789517-3c62-47dd-8d0b-d497a5c68c4d"
      },
      "source": [
        "# nx.draw(L,pos,with_labels = True) \n",
        "plt.figure(figsize =(2**(max_ele_length), max_ele_length+1)) \n",
        "nx.draw(L,pos, with_labels=True, font_weight='bold')"
      ],
      "execution_count": null,
      "outputs": [
        {
          "output_type": "display_data",
          "data": {
            "image/png": "[encoded data removed]",
            "text/plain": [
              "<Figure size 288x216 with 1 Axes>"
            ]
          },
          "metadata": {
            "tags": []
          }
        }
      ]
    },
    {
      "cell_type": "code",
      "metadata": {
        "id": "_Z9E4uu3Sr6K",
        "colab": {
          "base_uri": "https://localhost:8080/",
          "height": 319
        },
        "outputId": "f005a366-cc2d-4bfc-84ab-3a8cacd8b2e3"
      },
      "source": [
        "ko=1\n",
        "for a in poset:\n",
        "  I=nx.Graph()\n",
        "  ideal=[]\n",
        "  for ab in poset:\n",
        "    if set(ab).issubset(set(a)):\n",
        "      ideal.append(ab)\n",
        "  le=len(max(ideal,key=len))\n",
        "\n",
        "  for j in range(le+1):\n",
        "    x=2**(le-1)\n",
        "    x=x-(comb(le,j)//2)\n",
        "    for i in ideal:\n",
        "      if (len(i)==j):\n",
        "        I.add_node(i,pos=(x,j))\n",
        "        x+=1\n",
        "  \n",
        "  for j in range(le+1):\n",
        "    for k in ideal:\n",
        "      if len(k)==j:\n",
        "        for i in ideal:\n",
        "          if set(k).issubset(set(i)) and len(i)==len(k)+1:\n",
        "            I.add_edge(k,i)\n",
        "  \n",
        "  pos=nx.get_node_attributes(I,'pos')\n",
        "  \n",
        "  name=\"ideal_\" + str(ko) +\".png\"\n",
        "  \n",
        "  plt.clf()\n",
        "  nx.draw(I,pos, with_labels=True, font_weight='bold')\n",
        "  \n",
        "  plt.savefig(name)\n",
        "  ko+=1"
      ],
      "execution_count": null,
      "outputs": [
        {
          "output_type": "display_data",
          "data": {
            "image/png": "[encoded data removed]",
            "text/plain": [
              "<Figure size 432x288 with 1 Axes>"
            ]
          },
          "metadata": {
            "tags": []
          }
        }
      ]
    },
    {
      "cell_type": "code",
      "metadata": {
        "id": "zwt4ECF7kKvO"
      },
      "source": [
        ""
      ],
      "execution_count": null,
      "outputs": []
    }
  ]
}